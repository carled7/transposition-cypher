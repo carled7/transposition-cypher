{
 "cells": [
  {
   "cell_type": "code",
   "execution_count": 8,
   "metadata": {},
   "outputs": [
    {
     "name": "stdout",
     "output_type": "stream",
     "text": [
      "Mensagem criptografada: Crsoal\n",
      "Mensagem descriptografada: Carlos\n"
     ]
    }
   ],
   "source": [
    "msg = 'Carlos'\n",
    "key = 'chaves'\n",
    "encrypted_msg = encrypt(key, msg)\n",
    "\n",
    "decrypted_msg = decrypt(key, encrypted_msg)\n",
    "\n",
    "print('Mensagem criptografada:', encrypted_msg)\n",
    "print('Mensagem descriptografada:', decrypted_msg)"
   ]
  },
  {
   "cell_type": "markdown",
   "metadata": {},
   "source": [
    "### Métodos de codificação / decodificação"
   ]
  },
  {
   "cell_type": "code",
   "execution_count": 1,
   "metadata": {},
   "outputs": [],
   "source": [
    "import math\n",
    "import copy as cp"
   ]
  },
  {
   "cell_type": "code",
   "execution_count": 2,
   "metadata": {},
   "outputs": [],
   "source": [
    "def encrypt(key, msg):\n",
    "    key = format_key(key) \n",
    "    \n",
    "    cols = len(key)\n",
    "    rows = math.ceil(len(msg) / cols)\n",
    "\n",
    "    aux = [[0 for c in range(cols)] for r in range(rows)]\n",
    "\n",
    "    msg_iterator = 0\n",
    "\n",
    "    for r in range(rows):\n",
    "        for c in range(cols):\n",
    "            aux[r][c] = \" \" if (msg_iterator > len(msg) - 1) else msg[msg_iterator]\n",
    "\n",
    "            msg_iterator += 1\n",
    "\n",
    "    result = \"\"\n",
    "    \n",
    "    for c in key:\n",
    "        for r in range(rows):\n",
    "            result += aux[r][c - 1]\n",
    "\n",
    "    return result"
   ]
  },
  {
   "cell_type": "code",
   "execution_count": 3,
   "metadata": {},
   "outputs": [],
   "source": [
    "def decrypt(key, msg):\n",
    "# msg = 'a oee st ux ds '\n",
    "# key = 'chave'\n",
    "\n",
    "    key = format_key(key)\n",
    "\n",
    "    cols = len(key)\n",
    "    rows = math.ceil(len(msg) / cols)\n",
    "\n",
    "    aux = [[0 for c in range(cols)] for r in range(rows)]\n",
    "\n",
    "    msg_iterator = 0\n",
    "\n",
    "    for c in key:\n",
    "        for r in range(rows):\n",
    "            aux[r][c - 1] = \" \" if (msg_iterator > len(msg) - 1) else msg[msg_iterator]\n",
    "\n",
    "            msg_iterator += 1\n",
    "\n",
    "    final_msg = \"\"\n",
    "    msg_iterator = 0\n",
    "\n",
    "    for r in range(rows):\n",
    "        for c in range(cols):\n",
    "            final_msg += \" \" if (msg_iterator > len(msg) - 1) else aux[r][c]\n",
    "            msg_iterator += 1\n",
    "\n",
    "    return final_msg"
   ]
  },
  {
   "cell_type": "code",
   "execution_count": 4,
   "metadata": {},
   "outputs": [],
   "source": [
    "def format_key(key):\n",
    "\n",
    "    values = list(ord(i) for i in key)\n",
    "\n",
    "    sorted_values = cp.deepcopy(values)\n",
    "    sorted_values.sort()\n",
    "\n",
    "    final_key = list()\n",
    "\n",
    "    for i in values:\n",
    "        # if(sorted_values.index(i) not in final_key):\n",
    "        final_key.append(sorted_values.index(i))\n",
    "\n",
    "    #remove duplicates\n",
    "    return final_key"
   ]
  }
 ],
 "metadata": {
  "kernelspec": {
   "display_name": "venv",
   "language": "python",
   "name": "python3"
  },
  "language_info": {
   "codemirror_mode": {
    "name": "ipython",
    "version": 3
   },
   "file_extension": ".py",
   "mimetype": "text/x-python",
   "name": "python",
   "nbconvert_exporter": "python",
   "pygments_lexer": "ipython3",
   "version": "3.11.6"
  },
  "orig_nbformat": 4
 },
 "nbformat": 4,
 "nbformat_minor": 2
}
